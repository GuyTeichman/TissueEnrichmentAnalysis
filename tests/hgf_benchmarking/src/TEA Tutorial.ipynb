{
 "cells": [
  {
   "cell_type": "markdown",
   "metadata": {},
   "source": [
    "# An IPython Introduction to Using TEA for *C. elegans* researchers\n",
    "All of the code below was written by David Angeles-Albores. Should you find any errors, typos, or just have general comments, please contact:\n",
    "\n",
    "dangeles at caltech dt edu\n",
    "\n",
    "The work here was submitted and accepted for publication on ....\n",
    "Please cite XXX if this notebook was useful for you in your research.\n",
    "\n",
    "\n",
    "Please note: I have tried to make this tutorial as complete as possible, with a brief introduction to Pandas dataframes and showing how I typically prepare my dataframes for analysis. Experienced users will want to skip this and go straight to **Calling TEA**. However, this tutorial is by no means a complete introduction to Python or Pandas - in fact, it's more like a super fast crash course. I apologize for this, and in the future I will consider improving the tutorial.\n",
    "\n",
    "### Best of Luck!\n",
    "\n",
    "#### -- David Angeles-Albores"
   ]
  },
  {
   "cell_type": "markdown",
   "metadata": {},
   "source": [
    "# Introduction"
   ]
  },
  {
   "cell_type": "markdown",
   "metadata": {},
   "source": [
    "### What is TEA meant for? \n",
    "\n",
    "TEA is meant to provide straightforward analysis of large gene lists for *C. elegans* researchers.\n",
    "We hope that TEA will function as a hypothesis generator, or alternatively, as a way of understanding the biology behind a dataset.\n",
    "\n",
    "### How is TEA different from GO?\n",
    "Great question. GO is primarily a molecular/cellular ontology, whereas TEA works from TO, the *C. elegans* tissue ontology. I believe tissues are, in some senses, fundamental units in biology. Often, it is the case that tissues, not cells, have been studied for considerably longer time, and as a result we have a better intuition for what the function of a tissue is, as compared to the molecular function of a list of genes. In other words, I think GO analysis and TEA are similar, but my guess is that the results from TEA will be easier to interpret, and as a result easier to use for hypotheiss generation. \n",
    "\n",
    "### What TEA is not:\n",
    "TEA is NOT meant to be used as a quantitative tool! \n",
    "\n",
    "At best, TEA is a very good guess about what tissues are being affected in your dataset. At worst, TEA is a guess about what tissues are being affected in your dataset. TEA is working directly from the WormBase-curated expression dataset. As a result, we have the very best, most up to date annotations in the world. On the other hand, please remember these annotations suffer from bias. For example, the ASE, ASK and ASI neurons have been very well studied and are quite well annotated, but the individual intestinal cells have not been generally well studied! Thus, our annotations are significantly biased by the research community's interests. \n",
    "\n",
    "Please use TEA carefully, and always use it as a guiding tool for your research, and never as the final say on anything. \n",
    "\n",
    "\n",
    "### What do you need to do to run this tool?\n",
    "The gist of the algorithm is:\n",
    "\n",
    "Get your gene list into WBIDs\n",
    "\n",
    "Call our analysis function\n",
    "\n",
    "Call the plotting function\n",
    "\n",
    "Done.\n"
   ]
  },
  {
   "cell_type": "markdown",
   "metadata": {},
   "source": [
    "## Batch users:\n",
    "\n",
    "This script runs on Python > 3.5.\n",
    "\n",
    "Dependencies: scipy (all), pandas, numpy, matplotlib and seaborn\n",
    "\n",
    "If you have pip, do \n",
    "\n",
    "    pip install tissue_enrichment_analysis\n",
    "    \n",
    "to install the library in your computer.\n",
    "\n",
    "Import the module. You may find that the **numpy** and **pandas** modules are also often very useful.\n",
    "\n",
    "\n",
    "For the purposes of this journal, the file structure I'm working with is the following:\n",
    "\n",
    "src - the folder this file lives in\n",
    "input - a folder that contains all my input files. Also contains\n",
    "\n",
    "   Engelmann - folder containing the files i will be using\n",
    "   "
   ]
  },
  {
   "cell_type": "code",
   "execution_count": 6,
   "metadata": {
    "collapsed": false
   },
   "outputs": [],
   "source": [
    "import tissue_enrichment_analysis as tea #the main library for this tutorial\n",
    "import pandas as pd\n",
    "import os\n",
    "import importlib as imp\n",
    "import numpy as np\n",
    "import seaborn as sns\n",
    "import matplotlib.pyplot as plt\n",
    "\n",
    "#to make IPython plot inline, not req'd if you're not working with an Ipython notebook\n",
    "%matplotlib inline \n"
   ]
  },
  {
   "cell_type": "markdown",
   "metadata": {},
   "source": [
    "Now let's import our dataset. Here, I will use a dataset I obtained from **Engelmann et al, 2011 (PLOS One)**.\n",
    "\n",
    "Specifically, this is data from an RNA-seq experiment they performed. Briefly, young adult worms were placed in *D. coniospora* fungus for 24, cleaned and then RNA-seq'ed. "
   ]
  },
  {
   "cell_type": "code",
   "execution_count": 19,
   "metadata": {
    "collapsed": false
   },
   "outputs": [],
   "source": [
    "dfDcon= pd.read_csv('../input/Engelmann/coniospora_Engelmann_2011.csv') #Don't forget to change the path in your script!"
   ]
  },
  {
   "cell_type": "markdown",
   "metadata": {},
   "source": [
    "Let's visualize the first five lines of the dataframe to see what's in it"
   ]
  },
  {
   "cell_type": "code",
   "execution_count": 20,
   "metadata": {
    "collapsed": false
   },
   "outputs": [
    {
     "name": "stdout",
     "output_type": "stream",
     "text": [
      "This dataframe has 9 columns and 27322 rows\n"
     ]
    },
    {
     "data": {
      "text/html": [
       "<div>\n",
       "<table border=\"1\" class=\"dataframe\">\n",
       "  <thead>\n",
       "    <tr style=\"text-align: right;\">\n",
       "      <th></th>\n",
       "      <th>GenePublicName</th>\n",
       "      <th>SequenceNameGene</th>\n",
       "      <th>SequenceNameTranscript</th>\n",
       "      <th>DC</th>\n",
       "      <th>OP50</th>\n",
       "      <th>Ratio_DCvsOP50</th>\n",
       "      <th>log2_Ratio_DCvsOP50</th>\n",
       "      <th>Infection_upregulated</th>\n",
       "      <th>Infection_downregulated</th>\n",
       "    </tr>\n",
       "  </thead>\n",
       "  <tbody>\n",
       "    <tr>\n",
       "      <th>0</th>\n",
       "      <td>2L52.1</td>\n",
       "      <td>2L52.1</td>\n",
       "      <td>2L52.1</td>\n",
       "      <td>0,080068</td>\n",
       "      <td>0,07456</td>\n",
       "      <td>1.073868970660</td>\n",
       "      <td>0.102818</td>\n",
       "      <td>NaN</td>\n",
       "      <td>NaN</td>\n",
       "    </tr>\n",
       "    <tr>\n",
       "      <th>1</th>\n",
       "      <td>2RSSE.1</td>\n",
       "      <td>2RSSE.1</td>\n",
       "      <td>2RSSE.1</td>\n",
       "      <td>0,639852</td>\n",
       "      <td>0,586729</td>\n",
       "      <td>1.090540948206</td>\n",
       "      <td>0.125044</td>\n",
       "      <td>NaN</td>\n",
       "      <td>NaN</td>\n",
       "    </tr>\n",
       "    <tr>\n",
       "      <th>2</th>\n",
       "      <td>2RSSE.2</td>\n",
       "      <td>2RSSE.2</td>\n",
       "      <td>2RSSE.2</td>\n",
       "      <td>0,080266</td>\n",
       "      <td>0,081083</td>\n",
       "      <td>0.989921488245</td>\n",
       "      <td>-0.014614</td>\n",
       "      <td>NaN</td>\n",
       "      <td>NaN</td>\n",
       "    </tr>\n",
       "    <tr>\n",
       "      <th>3</th>\n",
       "      <td>3R5.1</td>\n",
       "      <td>3R5.1</td>\n",
       "      <td>3R5.1</td>\n",
       "      <td>0,270145</td>\n",
       "      <td>0,209694</td>\n",
       "      <td>1.288281972779</td>\n",
       "      <td>0.365448</td>\n",
       "      <td>NaN</td>\n",
       "      <td>NaN</td>\n",
       "    </tr>\n",
       "    <tr>\n",
       "      <th>4</th>\n",
       "      <td>nas-6</td>\n",
       "      <td>4R79.1</td>\n",
       "      <td>4R79.1a</td>\n",
       "      <td>0,000617</td>\n",
       "      <td>0,000749</td>\n",
       "      <td>0.824236379271</td>\n",
       "      <td>-0.278870</td>\n",
       "      <td>NaN</td>\n",
       "      <td>NaN</td>\n",
       "    </tr>\n",
       "  </tbody>\n",
       "</table>\n",
       "</div>"
      ],
      "text/plain": [
       "  GenePublicName SequenceNameGene SequenceNameTranscript        DC      OP50  \\\n",
       "0         2L52.1           2L52.1                 2L52.1  0,080068   0,07456   \n",
       "1        2RSSE.1          2RSSE.1                2RSSE.1  0,639852  0,586729   \n",
       "2        2RSSE.2          2RSSE.2                2RSSE.2  0,080266  0,081083   \n",
       "3          3R5.1            3R5.1                  3R5.1  0,270145  0,209694   \n",
       "4          nas-6           4R79.1                4R79.1a  0,000617  0,000749   \n",
       "\n",
       "   Ratio_DCvsOP50  log2_Ratio_DCvsOP50  Infection_upregulated  \\\n",
       "0  1.073868970660             0.102818                    NaN   \n",
       "1  1.090540948206             0.125044                    NaN   \n",
       "2  0.989921488245            -0.014614                    NaN   \n",
       "3  1.288281972779             0.365448                    NaN   \n",
       "4  0.824236379271            -0.278870                    NaN   \n",
       "\n",
       "   Infection_downregulated  \n",
       "0                      NaN  \n",
       "1                      NaN  \n",
       "2                      NaN  \n",
       "3                      NaN  \n",
       "4                      NaN  "
      ]
     },
     "execution_count": 20,
     "metadata": {},
     "output_type": "execute_result"
    }
   ],
   "source": [
    "print('This dataframe has {0} columns and {1} rows'.format(dfDcon.shape[1], dfLum.shape[0]))\n",
    "dfDcon.head()"
   ]
  },
  {
   "cell_type": "markdown",
   "metadata": {},
   "source": [
    "Ok. Clearly we can see the dataframe has a few different columns. Of particular interest to use are the columns 'Infection_upregulated' and 'Infection_downregulated', since these are the genes they identified as significantly altered by the treatment relative to an OP50 control. Let's analyze the genes that are upregulated first and see what they can do.\n",
    "\n",
    "Before we can analyze anything, notice that they don't list WBIDs anywhere. We need to turn the names into WBIDs before we can continue.\n",
    "\n",
    "To do this, I will load another file containing all the WBID-human readable relationships into a new dataframe called names"
   ]
  },
  {
   "cell_type": "code",
   "execution_count": 21,
   "metadata": {
    "collapsed": false
   },
   "outputs": [],
   "source": [
    "names= pd.read_csv('../input/Engelmann/c_elegans.PRJNA13758.WS241.livegeneIDs.unmaprm.txt', \n",
    "                   sep= '\\t',comment= '#')"
   ]
  },
  {
   "cell_type": "markdown",
   "metadata": {},
   "source": [
    "Let's take a look at it:"
   ]
  },
  {
   "cell_type": "code",
   "execution_count": 22,
   "metadata": {
    "collapsed": false
   },
   "outputs": [
    {
     "name": "stdout",
     "output_type": "stream",
     "text": [
      "The length of this dataframe is:46788\n"
     ]
    },
    {
     "data": {
      "text/html": [
       "<div>\n",
       "<table border=\"1\" class=\"dataframe\">\n",
       "  <thead>\n",
       "    <tr style=\"text-align: right;\">\n",
       "      <th></th>\n",
       "      <th>WBID</th>\n",
       "      <th>HumanReadable</th>\n",
       "      <th>GeneName</th>\n",
       "    </tr>\n",
       "  </thead>\n",
       "  <tbody>\n",
       "    <tr>\n",
       "      <th>0</th>\n",
       "      <td>WBGene00000001</td>\n",
       "      <td>aap-1</td>\n",
       "      <td>Y110A7A.10</td>\n",
       "    </tr>\n",
       "    <tr>\n",
       "      <th>1</th>\n",
       "      <td>WBGene00000002</td>\n",
       "      <td>aat-1</td>\n",
       "      <td>F27C8.1</td>\n",
       "    </tr>\n",
       "    <tr>\n",
       "      <th>2</th>\n",
       "      <td>WBGene00000003</td>\n",
       "      <td>aat-2</td>\n",
       "      <td>F07C3.7</td>\n",
       "    </tr>\n",
       "    <tr>\n",
       "      <th>3</th>\n",
       "      <td>WBGene00000004</td>\n",
       "      <td>aat-3</td>\n",
       "      <td>F52H2.2</td>\n",
       "    </tr>\n",
       "    <tr>\n",
       "      <th>4</th>\n",
       "      <td>WBGene00000005</td>\n",
       "      <td>aat-4</td>\n",
       "      <td>T13A10.10</td>\n",
       "    </tr>\n",
       "  </tbody>\n",
       "</table>\n",
       "</div>"
      ],
      "text/plain": [
       "             WBID HumanReadable    GeneName\n",
       "0  WBGene00000001         aap-1  Y110A7A.10\n",
       "1  WBGene00000002         aat-1     F27C8.1\n",
       "2  WBGene00000003         aat-2     F07C3.7\n",
       "3  WBGene00000004         aat-3     F52H2.2\n",
       "4  WBGene00000005         aat-4   T13A10.10"
      ]
     },
     "execution_count": 22,
     "metadata": {},
     "output_type": "execute_result"
    }
   ],
   "source": [
    "print('The length of this dataframe is:{0}'.format(len(names)))\n",
    "names.head()"
   ]
  },
  {
   "cell_type": "markdown",
   "metadata": {},
   "source": [
    "The Engelmann names look like they are GeneNames.\n",
    "\n",
    "Next, I'm going to generate a lambda function. This function will take a single argument 'x'. 'x' should the be the column containing the names we want to convert into WBIDs. Once we provide 'x', this function will look in the GeneName column of the names dataframe to see whether a particular entry can be found in the GeneName column.\\\n",
    "\n",
    "\n",
    "For every entry it can find, g returns True. Else, it returns False"
   ]
  },
  {
   "cell_type": "code",
   "execution_count": 23,
   "metadata": {
    "collapsed": true
   },
   "outputs": [],
   "source": [
    "g= lambda x: (names.GeneName.isin(x))"
   ]
  },
  {
   "cell_type": "markdown",
   "metadata": {},
   "source": [
    "Let's try our new function out!"
   ]
  },
  {
   "cell_type": "code",
   "execution_count": 24,
   "metadata": {
    "collapsed": false
   },
   "outputs": [
    {
     "name": "stdout",
     "output_type": "stream",
     "text": [
      "0    True\n",
      "1    True\n",
      "2    True\n",
      "3    True\n",
      "4    True\n",
      "Name: GeneName, dtype: bool\n"
     ]
    }
   ],
   "source": [
    "#Remember, dfLum is the dataframe. dfLum['SequenceNameGene'] is the column we want.#\n",
    "#We store the result in a variable called 'translate'\n",
    "translate= g(dfDcon['SequenceNameGene'])\n",
    "#I only want to show the first 5 rows, so I'm going to add [0:5] after translate, since 'g' returns a Series object\n",
    "print(translate[0:5])"
   ]
  },
  {
   "cell_type": "markdown",
   "metadata": {},
   "source": [
    "Great! Now we can get the WBIDs by simple indexing:"
   ]
  },
  {
   "cell_type": "code",
   "execution_count": 25,
   "metadata": {
    "collapsed": false
   },
   "outputs": [],
   "source": [
    "wbids= names[translate].WBID # names[translate] gets rows for every gene name that was found by 'translate'\n",
    "#The .WBID after names[] tells the computer to get the WBID colum"
   ]
  },
  {
   "cell_type": "code",
   "execution_count": 26,
   "metadata": {
    "collapsed": false
   },
   "outputs": [
    {
     "name": "stdout",
     "output_type": "stream",
     "text": [
      "wbids has 19702 gene IDS. The original dataframe has 27322 genes\n"
     ]
    },
    {
     "data": {
      "text/plain": [
       "0    WBGene00000001\n",
       "1    WBGene00000002\n",
       "2    WBGene00000003\n",
       "3    WBGene00000004\n",
       "4    WBGene00000005\n",
       "Name: WBID, dtype: object"
      ]
     },
     "execution_count": 26,
     "metadata": {},
     "output_type": "execute_result"
    }
   ],
   "source": [
    "print('wbids has {} gene IDS. The original dataframe has {} genes'.format(len(wbids), dfLum.shape[0]))\n",
    "wbids.head() #let's see what we found"
   ]
  },
  {
   "cell_type": "markdown",
   "metadata": {},
   "source": [
    "Hmmm. We lost quite a few genes. Let's quickly check to make sure those aren't important"
   ]
  },
  {
   "cell_type": "code",
   "execution_count": 27,
   "metadata": {
    "collapsed": false
   },
   "outputs": [
    {
     "data": {
      "text/html": [
       "<div>\n",
       "<table border=\"1\" class=\"dataframe\">\n",
       "  <thead>\n",
       "    <tr style=\"text-align: right;\">\n",
       "      <th></th>\n",
       "      <th>GenePublicName</th>\n",
       "      <th>SequenceNameGene</th>\n",
       "      <th>SequenceNameTranscript</th>\n",
       "      <th>DC</th>\n",
       "      <th>OP50</th>\n",
       "      <th>Ratio_DCvsOP50</th>\n",
       "      <th>log2_Ratio_DCvsOP50</th>\n",
       "      <th>Infection_upregulated</th>\n",
       "      <th>Infection_downregulated</th>\n",
       "    </tr>\n",
       "  </thead>\n",
       "  <tbody>\n",
       "    <tr>\n",
       "      <th>2</th>\n",
       "      <td>2RSSE.2</td>\n",
       "      <td>2RSSE.2</td>\n",
       "      <td>2RSSE.2</td>\n",
       "      <td>0,080266</td>\n",
       "      <td>0,081083</td>\n",
       "      <td>0.989921488245</td>\n",
       "      <td>-0.014614</td>\n",
       "      <td>NaN</td>\n",
       "      <td>NaN</td>\n",
       "    </tr>\n",
       "    <tr>\n",
       "      <th>7</th>\n",
       "      <td>6R55.1</td>\n",
       "      <td>6R55.1</td>\n",
       "      <td>6R55.1a</td>\n",
       "      <td>1,6612</td>\n",
       "      <td>1,38576</td>\n",
       "      <td>1.198764576839</td>\n",
       "      <td>0.261548</td>\n",
       "      <td>NaN</td>\n",
       "      <td>NaN</td>\n",
       "    </tr>\n",
       "    <tr>\n",
       "      <th>8</th>\n",
       "      <td>6R55.1</td>\n",
       "      <td>6R55.1</td>\n",
       "      <td>6R55.1b</td>\n",
       "      <td>1,66481</td>\n",
       "      <td>1,38919</td>\n",
       "      <td>1.198403386146</td>\n",
       "      <td>0.261114</td>\n",
       "      <td>NaN</td>\n",
       "      <td>NaN</td>\n",
       "    </tr>\n",
       "    <tr>\n",
       "      <th>197</th>\n",
       "      <td>B0212.6</td>\n",
       "      <td>B0212.6</td>\n",
       "      <td>B0212.6</td>\n",
       "      <td>0,015785</td>\n",
       "      <td>0,007612</td>\n",
       "      <td>2.073554738456</td>\n",
       "      <td>1.052106</td>\n",
       "      <td>1.0</td>\n",
       "      <td>NaN</td>\n",
       "    </tr>\n",
       "    <tr>\n",
       "      <th>416</th>\n",
       "      <td>B0310.4</td>\n",
       "      <td>B0310.4</td>\n",
       "      <td>B0310.4</td>\n",
       "      <td>0</td>\n",
       "      <td>0</td>\n",
       "      <td>NaN</td>\n",
       "      <td>NaN</td>\n",
       "      <td>NaN</td>\n",
       "      <td>NaN</td>\n",
       "    </tr>\n",
       "  </tbody>\n",
       "</table>\n",
       "</div>"
      ],
      "text/plain": [
       "    GenePublicName SequenceNameGene SequenceNameTranscript        DC  \\\n",
       "2          2RSSE.2          2RSSE.2                2RSSE.2  0,080266   \n",
       "7           6R55.1           6R55.1                6R55.1a    1,6612   \n",
       "8           6R55.1           6R55.1                6R55.1b   1,66481   \n",
       "197        B0212.6          B0212.6                B0212.6  0,015785   \n",
       "416        B0310.4          B0310.4                B0310.4         0   \n",
       "\n",
       "         OP50  Ratio_DCvsOP50  log2_Ratio_DCvsOP50  Infection_upregulated  \\\n",
       "2    0,081083  0.989921488245            -0.014614                    NaN   \n",
       "7     1,38576  1.198764576839             0.261548                    NaN   \n",
       "8     1,38919  1.198403386146             0.261114                    NaN   \n",
       "197  0,007612  2.073554738456             1.052106                    1.0   \n",
       "416         0             NaN                  NaN                    NaN   \n",
       "\n",
       "     Infection_downregulated  \n",
       "2                        NaN  \n",
       "7                        NaN  \n",
       "8                        NaN  \n",
       "197                      NaN  \n",
       "416                      NaN  "
      ]
     },
     "execution_count": 27,
     "metadata": {},
     "output_type": "execute_result"
    }
   ],
   "source": [
    "not_found= dfDcon[~dfDcon.SequenceNameGene.isin(names[translate].GeneName)]\n",
    "not_found.head()"
   ]
  },
  {
   "cell_type": "markdown",
   "metadata": {},
   "source": [
    "A quick search in WormBase shows that these genes have been merged into other genes. Hmmmm.. This could be a problem. \n",
    "\n",
    "To figure out if it really is a problem, let's look at how many of those genes are upregulated during infection."
   ]
  },
  {
   "cell_type": "code",
   "execution_count": 28,
   "metadata": {
    "collapsed": false
   },
   "outputs": [
    {
     "name": "stdout",
     "output_type": "stream",
     "text": [
      "There are 1692 upregulated genes, of which 31 can't be found in the names dictionary\n",
      "0.018% could not be found\n"
     ]
    }
   ],
   "source": [
    "print('There are {0} upregulated genes, of which {1} can\\'t be found in the names dictionary'.format(\n",
    "      dfDcon[dfDcon.Infection_upregulated == 1].shape[0], not_found[not_found.Infection_upregulated == 1].shape[0]))\n",
    "\n",
    "\n",
    "print('{0:.2}% could not be found'.format(\n",
    "        not_found[not_found.Infection_upregulated == 1].shape[0]/dfDcon[dfDcon.Infection_upregulated == 1].shape[0]))"
   ]
  },
  {
   "cell_type": "markdown",
   "metadata": {},
   "source": [
    "Great! So there's almost no loss in our gene name conversion. Now we can go ahead and extract all the IDs that we can find to use for our enrichment analysis"
   ]
  },
  {
   "cell_type": "code",
   "execution_count": 37,
   "metadata": {
    "collapsed": true
   },
   "outputs": [],
   "source": [
    "translate= g(dfLum[dfLum.Infection_downregulated == 1]['SequenceNameGene'])\n",
    "wbids= names[translate].WBID"
   ]
  },
  {
   "cell_type": "code",
   "execution_count": 38,
   "metadata": {
    "collapsed": false
   },
   "outputs": [
    {
     "name": "stdout",
     "output_type": "stream",
     "text": [
      "2     WBGene00000003\n",
      "4     WBGene00000005\n",
      "5     WBGene00000006\n",
      "19    WBGene00000021\n",
      "36    WBGene00000038\n",
      "Name: WBID, dtype: object\n"
     ]
    }
   ],
   "source": [
    "print(wbids.head())"
   ]
  },
  {
   "cell_type": "markdown",
   "metadata": {},
   "source": [
    "See how the list changed from before? Great! Now we can put this into TEA"
   ]
  },
  {
   "cell_type": "markdown",
   "metadata": {},
   "source": [
    "# Calling TEA\n",
    "\n",
    "TEA works by comparing your gene-list to a reference tissue expression ''dictionary''. In order for us to run TEA, we first need to fetch the dictionary. That's done easily enough:"
   ]
  },
  {
   "cell_type": "code",
   "execution_count": 33,
   "metadata": {
    "collapsed": false
   },
   "outputs": [],
   "source": [
    "tissue_df= tea.fetch_dictionary() #this downloads the tissue dictionary we want\n"
   ]
  },
  {
   "cell_type": "code",
   "execution_count": 35,
   "metadata": {
    "collapsed": false
   },
   "outputs": [
    {
     "data": {
      "text/html": [
       "<div>\n",
       "<table border=\"1\" class=\"dataframe\">\n",
       "  <thead>\n",
       "    <tr style=\"text-align: right;\">\n",
       "      <th></th>\n",
       "      <th>wbid</th>\n",
       "      <th>ray 2 WBbt:0006945</th>\n",
       "      <th>Cpapa WBbt:0005962</th>\n",
       "      <th>ABarappa WBbt:0006005</th>\n",
       "      <th>ABprpppap WBbt:0006237</th>\n",
       "      <th>Cpaaa WBbt:0006212</th>\n",
       "      <th>pm6 WBbt:0003724</th>\n",
       "      <th>ventral nerve cord WBbt:0005829</th>\n",
       "      <th>ABalpaap WBbt:0005934</th>\n",
       "      <th>retrovesicular ganglion WBbt:0005656</th>\n",
       "      <th>...</th>\n",
       "      <th>ABprpappa WBbt:0006088</th>\n",
       "      <th>MSaapp WBbt:0006425</th>\n",
       "      <th>thermosensory neuron WBbt:0005838</th>\n",
       "      <th>postdeirid sensillum WBbt:0005471</th>\n",
       "      <th>ABprappp WBbt:0006702</th>\n",
       "      <th>AWA WBbt:0005670</th>\n",
       "      <th>ray 9 WBbt:0006954</th>\n",
       "      <th>ABprappaa WBbt:0006350</th>\n",
       "      <th>nociceptor neuron WBbt:0008434</th>\n",
       "      <th>ABpraapa WBbt:0006302</th>\n",
       "    </tr>\n",
       "  </thead>\n",
       "  <tbody>\n",
       "    <tr>\n",
       "      <th>0</th>\n",
       "      <td>WBGene00003681</td>\n",
       "      <td>0.0</td>\n",
       "      <td>0.0</td>\n",
       "      <td>0.0</td>\n",
       "      <td>0.0</td>\n",
       "      <td>0.0</td>\n",
       "      <td>0.0</td>\n",
       "      <td>0.0</td>\n",
       "      <td>0.0</td>\n",
       "      <td>0.0</td>\n",
       "      <td>...</td>\n",
       "      <td>0.0</td>\n",
       "      <td>0.0</td>\n",
       "      <td>0.0</td>\n",
       "      <td>0.0</td>\n",
       "      <td>0.0</td>\n",
       "      <td>0.0</td>\n",
       "      <td>0.0</td>\n",
       "      <td>0.0</td>\n",
       "      <td>0.0</td>\n",
       "      <td>0.0</td>\n",
       "    </tr>\n",
       "    <tr>\n",
       "      <th>1</th>\n",
       "      <td>WBGene00000023</td>\n",
       "      <td>0.0</td>\n",
       "      <td>0.0</td>\n",
       "      <td>0.0</td>\n",
       "      <td>0.0</td>\n",
       "      <td>0.0</td>\n",
       "      <td>0.0</td>\n",
       "      <td>0.0</td>\n",
       "      <td>0.0</td>\n",
       "      <td>0.0</td>\n",
       "      <td>...</td>\n",
       "      <td>0.0</td>\n",
       "      <td>0.0</td>\n",
       "      <td>0.0</td>\n",
       "      <td>0.0</td>\n",
       "      <td>0.0</td>\n",
       "      <td>0.0</td>\n",
       "      <td>0.0</td>\n",
       "      <td>0.0</td>\n",
       "      <td>0.0</td>\n",
       "      <td>0.0</td>\n",
       "    </tr>\n",
       "    <tr>\n",
       "      <th>2</th>\n",
       "      <td>WBGene00022837</td>\n",
       "      <td>0.0</td>\n",
       "      <td>0.0</td>\n",
       "      <td>0.0</td>\n",
       "      <td>0.0</td>\n",
       "      <td>0.0</td>\n",
       "      <td>0.0</td>\n",
       "      <td>0.0</td>\n",
       "      <td>0.0</td>\n",
       "      <td>0.0</td>\n",
       "      <td>...</td>\n",
       "      <td>0.0</td>\n",
       "      <td>0.0</td>\n",
       "      <td>0.0</td>\n",
       "      <td>0.0</td>\n",
       "      <td>0.0</td>\n",
       "      <td>0.0</td>\n",
       "      <td>0.0</td>\n",
       "      <td>0.0</td>\n",
       "      <td>0.0</td>\n",
       "      <td>0.0</td>\n",
       "    </tr>\n",
       "    <tr>\n",
       "      <th>3</th>\n",
       "      <td>WBGene00003905</td>\n",
       "      <td>0.0</td>\n",
       "      <td>0.0</td>\n",
       "      <td>0.0</td>\n",
       "      <td>0.0</td>\n",
       "      <td>0.0</td>\n",
       "      <td>0.0</td>\n",
       "      <td>0.0</td>\n",
       "      <td>0.0</td>\n",
       "      <td>0.0</td>\n",
       "      <td>...</td>\n",
       "      <td>0.0</td>\n",
       "      <td>0.0</td>\n",
       "      <td>0.0</td>\n",
       "      <td>0.0</td>\n",
       "      <td>0.0</td>\n",
       "      <td>0.0</td>\n",
       "      <td>0.0</td>\n",
       "      <td>0.0</td>\n",
       "      <td>0.0</td>\n",
       "      <td>0.0</td>\n",
       "    </tr>\n",
       "    <tr>\n",
       "      <th>4</th>\n",
       "      <td>WBGene00003983</td>\n",
       "      <td>0.0</td>\n",
       "      <td>0.0</td>\n",
       "      <td>0.0</td>\n",
       "      <td>0.0</td>\n",
       "      <td>0.0</td>\n",
       "      <td>0.0</td>\n",
       "      <td>0.0</td>\n",
       "      <td>0.0</td>\n",
       "      <td>0.0</td>\n",
       "      <td>...</td>\n",
       "      <td>0.0</td>\n",
       "      <td>0.0</td>\n",
       "      <td>0.0</td>\n",
       "      <td>0.0</td>\n",
       "      <td>0.0</td>\n",
       "      <td>0.0</td>\n",
       "      <td>0.0</td>\n",
       "      <td>0.0</td>\n",
       "      <td>0.0</td>\n",
       "      <td>0.0</td>\n",
       "    </tr>\n",
       "  </tbody>\n",
       "</table>\n",
       "<p>5 rows × 261 columns</p>\n",
       "</div>"
      ],
      "text/plain": [
       "             wbid  ray 2 WBbt:0006945  Cpapa WBbt:0005962  \\\n",
       "0  WBGene00003681                 0.0                 0.0   \n",
       "1  WBGene00000023                 0.0                 0.0   \n",
       "2  WBGene00022837                 0.0                 0.0   \n",
       "3  WBGene00003905                 0.0                 0.0   \n",
       "4  WBGene00003983                 0.0                 0.0   \n",
       "\n",
       "   ABarappa WBbt:0006005  ABprpppap WBbt:0006237  Cpaaa WBbt:0006212  \\\n",
       "0                    0.0                     0.0                 0.0   \n",
       "1                    0.0                     0.0                 0.0   \n",
       "2                    0.0                     0.0                 0.0   \n",
       "3                    0.0                     0.0                 0.0   \n",
       "4                    0.0                     0.0                 0.0   \n",
       "\n",
       "   pm6 WBbt:0003724  ventral nerve cord WBbt:0005829  ABalpaap WBbt:0005934  \\\n",
       "0               0.0                              0.0                    0.0   \n",
       "1               0.0                              0.0                    0.0   \n",
       "2               0.0                              0.0                    0.0   \n",
       "3               0.0                              0.0                    0.0   \n",
       "4               0.0                              0.0                    0.0   \n",
       "\n",
       "   retrovesicular ganglion WBbt:0005656          ...            \\\n",
       "0                                   0.0          ...             \n",
       "1                                   0.0          ...             \n",
       "2                                   0.0          ...             \n",
       "3                                   0.0          ...             \n",
       "4                                   0.0          ...             \n",
       "\n",
       "   ABprpappa WBbt:0006088  MSaapp WBbt:0006425  \\\n",
       "0                     0.0                  0.0   \n",
       "1                     0.0                  0.0   \n",
       "2                     0.0                  0.0   \n",
       "3                     0.0                  0.0   \n",
       "4                     0.0                  0.0   \n",
       "\n",
       "   thermosensory neuron WBbt:0005838  postdeirid sensillum WBbt:0005471  \\\n",
       "0                                0.0                                0.0   \n",
       "1                                0.0                                0.0   \n",
       "2                                0.0                                0.0   \n",
       "3                                0.0                                0.0   \n",
       "4                                0.0                                0.0   \n",
       "\n",
       "   ABprappp WBbt:0006702  AWA WBbt:0005670  ray 9 WBbt:0006954  \\\n",
       "0                    0.0               0.0                 0.0   \n",
       "1                    0.0               0.0                 0.0   \n",
       "2                    0.0               0.0                 0.0   \n",
       "3                    0.0               0.0                 0.0   \n",
       "4                    0.0               0.0                 0.0   \n",
       "\n",
       "   ABprappaa WBbt:0006350  nociceptor neuron WBbt:0008434  \\\n",
       "0                     0.0                             0.0   \n",
       "1                     0.0                             0.0   \n",
       "2                     0.0                             0.0   \n",
       "3                     0.0                             0.0   \n",
       "4                     0.0                             0.0   \n",
       "\n",
       "   ABpraapa WBbt:0006302  \n",
       "0                    0.0  \n",
       "1                    0.0  \n",
       "2                    0.0  \n",
       "3                    0.0  \n",
       "4                    0.0  \n",
       "\n",
       "[5 rows x 261 columns]"
      ]
     },
     "execution_count": 35,
     "metadata": {},
     "output_type": "execute_result"
    }
   ],
   "source": [
    "tissue_df.head()"
   ]
  },
  {
   "cell_type": "markdown",
   "metadata": {},
   "source": [
    "Quick technical note: We could have placed the dictionary inside the other functions and call them from the inside, but we want you to be able to access the dictionary. Why? Well, you might imagine that you want to get all the genes that are specifically expressed in a tissue, or you may want to take a look at what tissues are included, etc... \n",
    "\n",
    "In other words, we want you to be able to get your hands on this data! It's up to date, it's easy and it works beautifully."
   ]
  },
  {
   "cell_type": "markdown",
   "metadata": {},
   "source": [
    "Now that we have the dictionary, we can run the enrichment analysis. Just so you know what's going on when you call it, the function has the following args.:\n",
    "\n",
    "**enrichment_analysis(gene_list, tissue_df, alpha= 0.05, aname= '', save= False, show= True) **\n",
    "\n",
    "\n",
    "Most of these you can ignore. Mainly, you'll want to assign:\n",
    "\n",
    "**gene_list = your gene list**\n",
    "\n",
    "**tissue_df = the result from fetch_dictionary()**\n",
    "\n",
    "**alpha= your desired q-value threshold**\n",
    "\n",
    "**aname= if you want to save the result to your python interpret, give it a name and complete path**\n",
    "\n",
    "**save= if you want to save your file, you must set this to True**\n",
    "\n",
    "\n",
    "This function returns 2 things:\n",
    "\n",
    "**df_res** -- a dataframe with all the results\n",
    "\n",
    "**unused** -- a list of all the genes that were discarded from the analysis\n",
    "\n",
    "\n",
    "\n",
    "For now, let's jsut run the analysis and show it here:"
   ]
  },
  {
   "cell_type": "code",
   "execution_count": 39,
   "metadata": {
    "collapsed": false
   },
   "outputs": [
    {
     "name": "stdout",
     "output_type": "stream",
     "text": [
      "Executing script\n",
      "\n",
      "                                     Tissue   Expected  Observed  \\\n",
      "0   posterior lateral ganglion WBbt:0005465  20.460474      37.0   \n",
      "5                          PDE WBbt:0006747   5.416008      14.0   \n",
      "6                          AIY WBbt:0005413   9.267391      21.0   \n",
      "7             lateral ganglion WBbt:0005105  61.140711      88.0   \n",
      "9                          NSM WBbt:0003666   5.897431      15.0   \n",
      "8         postdeirid sensillum WBbt:0005471   5.897431      14.0   \n",
      "11                        SDQL WBbt:0004993   4.332806      11.0   \n",
      "2                         SDQR WBbt:0004991   4.453162      11.0   \n",
      "4           cephalic sensillum WBbt:0006920   5.656719      13.0   \n",
      "10                         AQR WBbt:0003927   3.971739      10.0   \n",
      "13                         AWB WBbt:0005671   8.906324      18.0   \n",
      "12                         PQR WBbt:0004096   6.739921      14.0   \n",
      "1                          AWA WBbt:0005670   5.536364      12.0   \n",
      "3        anal sphincter muscle WBbt:0005798  15.525889      26.0   \n",
      "\n",
      "    Enrichment Fold Change   Q value  \n",
      "0                 1.808365  0.016980  \n",
      "5                 2.584930  0.016980  \n",
      "6                 2.266010  0.016980  \n",
      "7                 1.439303  0.016980  \n",
      "9                 2.543480  0.016980  \n",
      "8                 2.373915  0.018099  \n",
      "11                2.538770  0.024781  \n",
      "2                 2.470155  0.028501  \n",
      "4                 2.298152  0.028501  \n",
      "10                2.517789  0.028501  \n",
      "13                2.021036  0.028501  \n",
      "12                2.077176  0.041767  \n",
      "1                 2.167488  0.045186  \n",
      "3                 1.674622  0.046300  \n"
     ]
    }
   ],
   "source": [
    "df_res, unused= tea.enrichment_analysis(wbids, tissue_df, show= True, save= False)"
   ]
  },
  {
   "cell_type": "markdown",
   "metadata": {},
   "source": [
    "Voila! We got our results. Great! But what if we didn't want to show them?'"
   ]
  },
  {
   "cell_type": "code",
   "execution_count": 40,
   "metadata": {
    "collapsed": false
   },
   "outputs": [
    {
     "name": "stdout",
     "output_type": "stream",
     "text": [
      "Executing script\n",
      "\n"
     ]
    }
   ],
   "source": [
    "df_res, unused= tea.enrichment_analysis(wbids, tissue_df, show= False, save= False)"
   ]
  },
  {
   "cell_type": "markdown",
   "metadata": {},
   "source": [
    "We could still look at the results by typing df_res.head():"
   ]
  },
  {
   "cell_type": "code",
   "execution_count": 41,
   "metadata": {
    "collapsed": false
   },
   "outputs": [
    {
     "data": {
      "text/html": [
       "<div>\n",
       "<table border=\"1\" class=\"dataframe\">\n",
       "  <thead>\n",
       "    <tr style=\"text-align: right;\">\n",
       "      <th></th>\n",
       "      <th>Tissue</th>\n",
       "      <th>Expected</th>\n",
       "      <th>Observed</th>\n",
       "      <th>Enrichment Fold Change</th>\n",
       "      <th>Q value</th>\n",
       "    </tr>\n",
       "  </thead>\n",
       "  <tbody>\n",
       "    <tr>\n",
       "      <th>0</th>\n",
       "      <td>posterior lateral ganglion WBbt:0005465</td>\n",
       "      <td>20.460474</td>\n",
       "      <td>37.0</td>\n",
       "      <td>1.808365</td>\n",
       "      <td>0.01698</td>\n",
       "    </tr>\n",
       "    <tr>\n",
       "      <th>5</th>\n",
       "      <td>PDE WBbt:0006747</td>\n",
       "      <td>5.416008</td>\n",
       "      <td>14.0</td>\n",
       "      <td>2.584930</td>\n",
       "      <td>0.01698</td>\n",
       "    </tr>\n",
       "    <tr>\n",
       "      <th>6</th>\n",
       "      <td>AIY WBbt:0005413</td>\n",
       "      <td>9.267391</td>\n",
       "      <td>21.0</td>\n",
       "      <td>2.266010</td>\n",
       "      <td>0.01698</td>\n",
       "    </tr>\n",
       "    <tr>\n",
       "      <th>7</th>\n",
       "      <td>lateral ganglion WBbt:0005105</td>\n",
       "      <td>61.140711</td>\n",
       "      <td>88.0</td>\n",
       "      <td>1.439303</td>\n",
       "      <td>0.01698</td>\n",
       "    </tr>\n",
       "    <tr>\n",
       "      <th>9</th>\n",
       "      <td>NSM WBbt:0003666</td>\n",
       "      <td>5.897431</td>\n",
       "      <td>15.0</td>\n",
       "      <td>2.543480</td>\n",
       "      <td>0.01698</td>\n",
       "    </tr>\n",
       "  </tbody>\n",
       "</table>\n",
       "</div>"
      ],
      "text/plain": [
       "                                    Tissue   Expected  Observed  \\\n",
       "0  posterior lateral ganglion WBbt:0005465  20.460474      37.0   \n",
       "5                         PDE WBbt:0006747   5.416008      14.0   \n",
       "6                         AIY WBbt:0005413   9.267391      21.0   \n",
       "7            lateral ganglion WBbt:0005105  61.140711      88.0   \n",
       "9                         NSM WBbt:0003666   5.897431      15.0   \n",
       "\n",
       "   Enrichment Fold Change  Q value  \n",
       "0                1.808365  0.01698  \n",
       "5                2.584930  0.01698  \n",
       "6                2.266010  0.01698  \n",
       "7                1.439303  0.01698  \n",
       "9                2.543480  0.01698  "
      ]
     },
     "execution_count": 41,
     "metadata": {},
     "output_type": "execute_result"
    }
   ],
   "source": [
    "df_res.head()"
   ]
  },
  {
   "cell_type": "markdown",
   "metadata": {},
   "source": [
    "What about the unused genes? Let's see how many of those there are:"
   ]
  },
  {
   "cell_type": "code",
   "execution_count": 42,
   "metadata": {
    "collapsed": false
   },
   "outputs": [
    {
     "name": "stdout",
     "output_type": "stream",
     "text": [
      "4451 were discarded from the analysis\n"
     ]
    }
   ],
   "source": [
    "print('{0} were discarded from the analysis'.format(len(unused)))"
   ]
  },
  {
   "cell_type": "markdown",
   "metadata": {},
   "source": [
    "Ouch! That's a lot! Don't like it? Make GFP reporters and let WormBase know where they are expressed. **Seriously. Do it! You'd be helping the whole community a lot!**"
   ]
  },
  {
   "cell_type": "markdown",
   "metadata": {},
   "source": [
    "Now let's plot the results"
   ]
  },
  {
   "cell_type": "code",
   "execution_count": 43,
   "metadata": {
    "collapsed": false
   },
   "outputs": [
    {
     "data": {
      "text/plain": [
       "<matplotlib.axes._subplots.AxesSubplot at 0x11ab54160>"
      ]
     },
     "execution_count": 43,
     "metadata": {},
     "output_type": "execute_result"
    },
    {
     "data": {
      "image/png": "[encoded data removed]",
      "text/plain": [
       "<matplotlib.figure.Figure at 0x11ab48da0>"
      ]
     },
     "metadata": {},
     "output_type": "display_data"
    }
   ],
   "source": [
    "tea.plot_enrichment_results(df_res, title= 'Exercise', save= False)"
   ]
  },
  {
   "cell_type": "markdown",
   "metadata": {},
   "source": [
    "Voila! We've analyzed our data! Yay! :D"
   ]
  },
  {
   "cell_type": "markdown",
   "metadata": {},
   "source": [
    "If we wanted to save our plot, we would type:"
   ]
  },
  {
   "cell_type": "code",
   "execution_count": null,
   "metadata": {
    "collapsed": true
   },
   "outputs": [],
   "source": [
    "tea.plot_enrichment_results(df_res, title= 'Exercise', save= True, dirGraphs= 'example_graph_dir/')\n",
    "#This will save the graph in the corresponding directory. If no directory is specified, the graphs will be saved\n",
    "#to the current working directory. "
   ]
  }
 ],
 "metadata": {
  "celltoolbar": "Raw Cell Format",
  "kernelspec": {
   "display_name": "Python 3",
   "language": "python",
   "name": "python3"
  },
  "language_info": {
   "codemirror_mode": {
    "name": "ipython",
    "version": 3
   },
   "file_extension": ".py",
   "mimetype": "text/x-python",
   "name": "python",
   "nbconvert_exporter": "python",
   "pygments_lexer": "ipython3",
   "version": "3.5.1"
  }
 },
 "nbformat": 4,
 "nbformat_minor": 0
}
